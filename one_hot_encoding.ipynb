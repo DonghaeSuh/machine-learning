{
  "nbformat": 4,
  "nbformat_minor": 0,
  "metadata": {
    "colab": {
      "name": "20211110 기계학습",
      "private_outputs": true,
      "provenance": [],
      "collapsed_sections": [],
      "authorship_tag": "ABX9TyMRbM5IM8y6//i0Ucyr6Ifd",
      "include_colab_link": true
    },
    "kernelspec": {
      "name": "python3",
      "display_name": "Python 3"
    },
    "language_info": {
      "name": "python"
    }
  },
  "cells": [
    {
      "cell_type": "markdown",
      "metadata": {
        "id": "view-in-github",
        "colab_type": "text"
      },
      "source": [
        "<a href=\"https://colab.research.google.com/github/DonghaeSuh/machine-learning/blob/main/one_hot_encoding.ipynb\" target=\"_parent\"><img src=\"https://colab.research.google.com/assets/colab-badge.svg\" alt=\"Open In Colab\"/></a>"
      ]
    },
    {
      "cell_type": "markdown",
      "metadata": {
        "id": "DU0FbCQPNdBV"
      },
      "source": [
        "### one-hot encoding"
      ]
    },
    {
      "cell_type": "code",
      "metadata": {
        "id": "eBpReTC4KlPn"
      },
      "source": [
        "from tensorflow.keras.utils import to_categorical  # 분류 원핫인코딩\n",
        "import numpy as np\n",
        "\n",
        "data = np.array([0,1,2,3,4])\n",
        "print('target: ',data)\n",
        "encoded = to_categorical(data)\n",
        "print('one-hot encoded: ')\n",
        "print(encoded)"
      ],
      "execution_count": null,
      "outputs": []
    },
    {
      "cell_type": "code",
      "metadata": {
        "id": "5s0z3e-kLCEW"
      },
      "source": [
        "import numpy as np\n",
        "\n",
        "target = np.array([0,0,0,1,0])\n",
        "y_hat = np.array([0.005,0.173,0.035,0.777,0.01])\n",
        "\n",
        "def mse(y,t):\n",
        "  return ((y-t)**2).mean()   #mean squared error\n",
        "\n",
        "print('Error from y_hat and target: ', mse(y_hat,target))"
      ],
      "execution_count": null,
      "outputs": []
    },
    {
      "cell_type": "code",
      "metadata": {
        "id": "aXVs60YWLjG4"
      },
      "source": [
        ""
      ],
      "execution_count": null,
      "outputs": []
    }
  ]
}