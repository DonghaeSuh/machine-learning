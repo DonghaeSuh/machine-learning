{
  "nbformat": 4,
  "nbformat_minor": 0,
  "metadata": {
    "colab": {
      "name": "20211108 기계학습",
      "private_outputs": true,
      "provenance": [],
      "collapsed_sections": [],
      "authorship_tag": "ABX9TyNd+CluVGpw4vwWKUCV2IBr",
      "include_colab_link": true
    },
    "kernelspec": {
      "name": "python3",
      "display_name": "Python 3"
    },
    "language_info": {
      "name": "python"
    }
  },
  "cells": [
    {
      "cell_type": "markdown",
      "metadata": {
        "id": "view-in-github",
        "colab_type": "text"
      },
      "source": [
        "<a href=\"https://colab.research.google.com/github/DonghaeSuh/machine-learning/blob/main/MNIST.ipynb\" target=\"_parent\"><img src=\"https://colab.research.google.com/assets/colab-badge.svg\" alt=\"Open In Colab\"/></a>"
      ]
    },
    {
      "cell_type": "markdown",
      "metadata": {
        "id": "bFcThUWHtaGB"
      },
      "source": [
        "### Load the MNIST"
      ]
    },
    {
      "cell_type": "code",
      "metadata": {
        "id": "P5GRRyw8ekYx"
      },
      "source": [
        "import tensorflow as tf\n",
        "from tensorflow import keras\n",
        "import numpy as np\n",
        "import matplotlib.pyplot as plt\n",
        "\n",
        "mnist = tf.keras.datasets.mnist\n",
        "\n",
        "(x_train,y_train), (x_test,y_test) = mnist.load_data()\n",
        "\n",
        "print('x_train shape :', x_train.shape)\n",
        "print('x_train[0] shape :', x_train[0].shape)\n",
        "print('y_train shape :',y_train.shape)"
      ],
      "execution_count": null,
      "outputs": []
    },
    {
      "cell_type": "markdown",
      "metadata": {
        "id": "0tBFkoTLte-T"
      },
      "source": [
        "### Draw an image"
      ]
    },
    {
      "cell_type": "code",
      "metadata": {
        "id": "0u8mDrM-tT6C"
      },
      "source": [
        "img = x_train[0]\n",
        "for i in range(28):\n",
        "  for j in range(28):\n",
        "    print('{:4d}'.format(img[i][j]),end='')\n",
        "  print()\n",
        "\n",
        "plt.imshow(img,cmap='Greys',interpolation='nearest')"
      ],
      "execution_count": null,
      "outputs": []
    },
    {
      "cell_type": "code",
      "metadata": {
        "id": "Zr4uaRu0uEI9"
      },
      "source": [
        "#construct the DNN\n",
        "(x_train,y_train), (x_test,y_test) = mnist.load_data()\n",
        "\n",
        "x_train,x_test = x_train/255,x_test/255\n",
        "\n",
        "model = keras.models.Sequential( [\n",
        "            keras.layers.Flatten(input_shape=(28,28)),\n",
        "            keras.layers.Dense(256,activation='relu'),\n",
        "            keras.layers.Dense(10,activation='softmax'),                                  \n",
        "])\n",
        "\n",
        "\n",
        "# compile\n",
        "model.compile(optimizer='adam', loss='sparse_categorical_crossentropy',metrics=['accuracy'])\n",
        "model.fit(x_train,y_train,epochs=4)"
      ],
      "execution_count": null,
      "outputs": []
    },
    {
      "cell_type": "code",
      "metadata": {
        "id": "lobZbz1SwBZi"
      },
      "source": [
        "model.summary()"
      ],
      "execution_count": null,
      "outputs": []
    },
    {
      "cell_type": "code",
      "metadata": {
        "id": "T7n9vntQhYig"
      },
      "source": [
        "model.predict(x_test).shape"
      ],
      "execution_count": null,
      "outputs": []
    },
    {
      "cell_type": "code",
      "metadata": {
        "id": "VFFezvfbwEWZ"
      },
      "source": [
        "eval_loss,eval_acc= model.evaluate(x_test,y_test)\n",
        "print('test loss:',eval_loss)\n",
        "print('test accuracy:',eval_acc)"
      ],
      "execution_count": null,
      "outputs": []
    }
  ]
}