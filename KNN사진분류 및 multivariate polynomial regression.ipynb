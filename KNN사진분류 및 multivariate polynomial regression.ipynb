{
  "nbformat": 4,
  "nbformat_minor": 0,
  "metadata": {
    "colab": {
      "name": "기계학습 20211004",
      "private_outputs": true,
      "provenance": [],
      "collapsed_sections": [],
      "authorship_tag": "ABX9TyNK6pIMotANWPqDU+1SuKu4",
      "include_colab_link": true
    },
    "kernelspec": {
      "name": "python3",
      "display_name": "Python 3"
    },
    "language_info": {
      "name": "python"
    }
  },
  "cells": [
    {
      "cell_type": "markdown",
      "metadata": {
        "id": "view-in-github",
        "colab_type": "text"
      },
      "source": [
        "<a href=\"https://colab.research.google.com/github/DonghaeSuh/machine-learning/blob/main/KNN%EC%82%AC%EC%A7%84%EB%B6%84%EB%A5%98%20%EB%B0%8F%20multivariate%20polynomial%20regression.ipynb\" target=\"_parent\"><img src=\"https://colab.research.google.com/assets/colab-badge.svg\" alt=\"Open In Colab\"/></a>"
      ]
    },
    {
      "cell_type": "code",
      "metadata": {
        "id": "tnSI3UwrPzg7"
      },
      "source": [
        "import matplotlib.pyplot as plt\n",
        "import numpy as np\n",
        "\n",
        "from skimage.io import imread \n",
        "from skimage.transform import resize\n",
        "\n",
        "url = 'http://github.com/dknife/ML/raw/main/data/Proj1/40/'\n",
        "\n",
        "imgR,imgC,channel = 24,24,3\n",
        "images=[]\n",
        "\n",
        "for i in range(40):\n",
        "  file = url+'img{:02d}.jpg'.format(i+1)\n",
        "  img = imread(file)\n",
        "  img = resize(img,(imgR,imgC,channel))\n",
        "  images.append(img)"
      ],
      "execution_count": null,
      "outputs": []
    },
    {
      "cell_type": "code",
      "metadata": {
        "id": "23LYbotjSTDU"
      },
      "source": [
        "def plot_images(nRow,nCol,images):\n",
        "  fig, ax= plt.subplots(nRow,nCol,figsize = (nCol,nRow))\n",
        "\n",
        "  for i in range(nRow):\n",
        "    for j in range(nCol):\n",
        "      if nRow <=1: axes=ax[j]\n",
        "      else:        axes=ax[i,j]\n",
        "      axes.get_xaxis().set_visible(False)\n",
        "      axes.get_yaxis().set_visible(False)\n",
        "      axes.imshow(images[i*nCol+j])\n",
        "plot_images(4,10,images)"
      ],
      "execution_count": null,
      "outputs": []
    },
    {
      "cell_type": "markdown",
      "metadata": {
        "id": "ClUNDwP4UZSX"
      },
      "source": [
        "노이즈 사진 만들기"
      ]
    },
    {
      "cell_type": "code",
      "metadata": {
        "id": "Lvzg-kMISZoL"
      },
      "source": [
        "X = np.array(images[:30])\n",
        "print(X.shape)\n",
        "X_noisy = X+np.random.randn(len(X), imgR, imgC, channel)*0.2\n",
        "y_label = np.array(X*255,dtype= np.uint)\n",
        "y=y_label\n",
        "\n",
        "for i in range(100):\n",
        "  noisy_data = X + np.random.randn(len(X),imgR,imgC,channel)*0.2\n",
        "  X_noisy = np.append(X_noisy,noisy_data,axis=0)\n",
        "  y = np.append(y,y_label,axis=0)\n",
        "\n",
        "X_noisy = np.clip(X_noisy,0,1)\n",
        "\n",
        "plot_images(1,10,X_noisy[0:300:30])\n",
        "X_noisy.shape,y.shape"
      ],
      "execution_count": null,
      "outputs": []
    },
    {
      "cell_type": "code",
      "metadata": {
        "id": "xQaMt2C7-faU"
      },
      "source": [
        "np.array(images[0]).shape"
      ],
      "execution_count": null,
      "outputs": []
    },
    {
      "cell_type": "markdown",
      "metadata": {
        "id": "PP6S7luVX5W8"
      },
      "source": [
        "K-NN 적용"
      ]
    },
    {
      "cell_type": "code",
      "metadata": {
        "id": "YXDEBOz1X5CG"
      },
      "source": [
        "\n",
        "X_noisy_flat = X_noisy.reshape(-1,imgR*imgC*channel)\n",
        "y_flat = y.reshape(-1,imgR*imgC*channel)\n",
        "\n",
        "from sklearn.neighbors import KNeighborsClassifier\n",
        "knn = KNeighborsClassifier(n_neighbors=5)\n",
        "knn.fit(X_noisy_flat,y_flat)"
      ],
      "execution_count": null,
      "outputs": []
    },
    {
      "cell_type": "code",
      "metadata": {
        "id": "UWZJVatcZW8b"
      },
      "source": [
        "rndidx = np.random.randint(0,20)\n",
        "data = X[rndidx:rndidx+10] + np.random.randn(10,imgR,imgC,channel)*0.4\n",
        "data = np.clip(data,0,1)\n",
        "data_flat = data.reshape(-1,imgR*imgC*channel)\n",
        "\n",
        "denoised=knn.predict(data_flat)\n",
        "denoised=denoised.reshape(-1,imgR,imgC,channel)\n",
        "\n",
        "plot_images(1,10,data)\n",
        "plot_images(1,10,denoised)"
      ],
      "execution_count": null,
      "outputs": []
    },
    {
      "cell_type": "markdown",
      "metadata": {
        "id": "0EshrXwtbrAq"
      },
      "source": [
        "multivariate polynomial regression"
      ]
    },
    {
      "cell_type": "code",
      "metadata": {
        "id": "0xwh5BmCcHP2"
      },
      "source": [
        "import pandas as pd\n",
        "import matplotlib.pyplot as plt \n",
        "import numpy as np\n",
        "from sklearn.linear_model import LinearRegression\n",
        "data_loc = 'http://github.com/dknife/ML/raw/main/data/'\n",
        "df = pd.read_csv(data_loc + 'nonlinear.csv')\n",
        "\n",
        "plt.scatter(df['x'],df['y'])"
      ],
      "execution_count": null,
      "outputs": []
    },
    {
      "cell_type": "code",
      "metadata": {
        "id": "HXN7D7XTeXPD"
      },
      "source": [
        "from sklearn.preprocessing import PolynomialFeatures\n",
        "\n",
        "X=df['x'].to_numpy()\n",
        "y=df['y'].to_numpy()\n",
        "\n",
        "X=X.reshape(-1,1)\n",
        "feature_cubic=PolynomialFeatures(degree=3)\n",
        "X_3 = feature_cubic.fit_transform(X)\n",
        "\n",
        "lin_model = LinearRegression()\n",
        "lin_model.fit(X_3,y)"
      ],
      "execution_count": null,
      "outputs": []
    },
    {
      "cell_type": "code",
      "metadata": {
        "id": "ngIlBXzEe9Ka"
      },
      "source": [
        "domain  = np.linspace(0,1,100).reshape(-1,1)\n",
        "domain_3 = feature_cubic.fit_transform(domain)\n",
        "predictions = lin_model.predict(domain_3)\n",
        "\n",
        "plt.scatter(domain,predictions,color='r')"
      ],
      "execution_count": null,
      "outputs": []
    }
  ]
}