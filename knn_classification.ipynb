{
  "nbformat": 4,
  "nbformat_minor": 0,
  "metadata": {
    "colab": {
      "name": "기계학습hw 2.ipynb",
      "private_outputs": true,
      "provenance": [],
      "collapsed_sections": [],
      "authorship_tag": "ABX9TyNqOei3ZSM02csL20SXnzIT",
      "include_colab_link": true
    },
    "kernelspec": {
      "name": "python3",
      "display_name": "Python 3"
    },
    "language_info": {
      "name": "python"
    }
  },
  "cells": [
    {
      "cell_type": "markdown",
      "metadata": {
        "id": "view-in-github",
        "colab_type": "text"
      },
      "source": [
        "<a href=\"https://colab.research.google.com/github/DonghaeSuh/machine-learning/blob/main/knn_classification.ipynb\" target=\"_parent\"><img src=\"https://colab.research.google.com/assets/colab-badge.svg\" alt=\"Open In Colab\"/></a>"
      ]
    },
    {
      "cell_type": "markdown",
      "metadata": {
        "id": "0odgsAJIyaFi"
      },
      "source": [
        "### KNN Classification"
      ]
    },
    {
      "cell_type": "markdown",
      "metadata": {
        "id": "vjgV6sqYyg-n"
      },
      "source": [
        "## 1. Applying k-NN classifier(k=3) to the data, obtain the confusion matrix\n"
      ]
    },
    {
      "cell_type": "code",
      "metadata": {
        "id": "eipFLNCryZsD"
      },
      "source": [
        "import matplotlib.pyplot as plt \n",
        "import numpy as np\n",
        "from sklearn.neighbors import KNeighborsClassifier\n",
        "from sklearn import metrics\n",
        "\n",
        "dach_length = [75,77,83,81,73,99,72,83]\n",
        "dach_height = [24,29,19,32,21,22,19,34]\n",
        "\n",
        "samo_length = [76,78,82,88,76,83,81,89]\n",
        "samo_height = [55,58,53,54,61,52,57,64]\n",
        "\n",
        "malt_length = [35,39,38,41,30,57,41,35]\n",
        "malt_height = [23,26,19,30,21,24,28,20]\n",
        "\n",
        "plt.scatter(dach_length ,dach_height, c='red',label='Dcahshund')\n",
        "plt.scatter(samo_length,samo_height, c='blue',label='Samoyed')\n",
        "plt.scatter(malt_length ,malt_height, c='green',label='Maltese')\n",
        "\n",
        "plt.xlabel('Length')\n",
        "plt.ylabel('Height')\n",
        "plt.title('Dog size')\n",
        "plt.legend(loc='best') #범례가 어디있을지는 best : 알아서 해라, 원하는 위치 쓰면 됨\n",
        "plt.show()"
      ],
      "execution_count": null,
      "outputs": []
    },
    {
      "cell_type": "code",
      "metadata": {
        "id": "UFmykcGeyw_F"
      },
      "source": [
        "#학습 데이터 준비\n",
        "\n",
        "d_data= np.column_stack((dach_length,dach_height)) #열로 데이터 붙이기\n",
        "d_label=np.zeros(len(d_data))  #라벨0인 array 생성\n",
        "\n",
        "s_data= np.column_stack((samo_length,samo_height))\n",
        "s_label=np.ones(len(s_data)) #라벨1인 array 생성\n",
        "\n",
        "m_data= np.column_stack((malt_length,malt_height))\n",
        "m_label=np.ones(len(s_data))+1 #라벨2인 array 생성\n",
        "\n",
        "dogs = np.concatenate((d_data,s_data,m_data))  #8x2 행렬 3개를 2차원 방향으로 쌓는다\n",
        "labels = np.concatenate((d_label,s_label,m_label)) #라벨을 1차원 방향으로 이어붙임\n",
        "\n",
        "dog_classes = {0:'Dachshund',1:'Samoyed', 2:'Maltese'}\n",
        "\n"
      ],
      "execution_count": null,
      "outputs": []
    },
    {
      "cell_type": "markdown",
      "metadata": {
        "id": "fI7Gv0Dd3Gic"
      },
      "source": [
        "k-NN (k=3) 일때, confusion matrix"
      ]
    },
    {
      "cell_type": "code",
      "metadata": {
        "id": "VxaKOD498USF"
      },
      "source": [
        "#k-NN 적용\n",
        "k=3\n",
        "knn = KNeighborsClassifier(n_neighbors=k)\n",
        "knn.fit(dogs,labels)"
      ],
      "execution_count": null,
      "outputs": []
    },
    {
      "cell_type": "code",
      "metadata": {
        "id": "ha15qvrE8YUD"
      },
      "source": [
        "from sklearn.metrics import confusion_matrix\n",
        "y_pred=knn.predict(dogs)  #기존 데이터를 모델에 투입\n",
        "print(labels)\n",
        "print(y_pred)\n",
        "confusion_matrix(labels,y_pred)  #사실과 예측을 비교"
      ],
      "execution_count": null,
      "outputs": []
    },
    {
      "cell_type": "markdown",
      "metadata": {
        "id": "XMrg9-wm-SGK"
      },
      "source": [
        "## 2. Classify the following A,B,C,D when k=3,5,7"
      ]
    },
    {
      "cell_type": "code",
      "metadata": {
        "id": "mJ6ZYfMn4aS9"
      },
      "source": [
        "import pandas as pd\n",
        "new = [[58,80,80,75],[30,26,41,55]]\n",
        "new_data = pd.DataFrame(new,index=['Length','Height'],columns=['A','B','C','D'])\n",
        "print(new_data)"
      ],
      "execution_count": null,
      "outputs": []
    },
    {
      "cell_type": "code",
      "metadata": {
        "id": "vPOH91lV_pSs"
      },
      "source": [
        "new= np.transpose(new)\n",
        "print(new)"
      ],
      "execution_count": null,
      "outputs": []
    },
    {
      "cell_type": "code",
      "metadata": {
        "id": "LeBXflBL-grX"
      },
      "source": [
        "# k=3 일때\n",
        "k=3\n",
        "knn = KNeighborsClassifier(n_neighbors=k)\n",
        "knn.fit(dogs,labels)\n",
        "y_pred=knn.predict(new)\n",
        "print(\"A : {0} ,B : {1}, C : {2}, D : {3}\".format(dog_classes[y_pred[0]],dog_classes[y_pred[1]],dog_classes[y_pred[2]],dog_classes[y_pred[3]]))"
      ],
      "execution_count": null,
      "outputs": []
    },
    {
      "cell_type": "code",
      "metadata": {
        "id": "DQ4a3QQm-gcN"
      },
      "source": [
        "# k=5 일때\n",
        "k=5\n",
        "knn = KNeighborsClassifier(n_neighbors=k)\n",
        "knn.fit(dogs,labels)\n",
        "y_pred=knn.predict(new)\n",
        "print(\"A : {0} ,B : {1}, C : {2}, D : {3}\".format(dog_classes[y_pred[0]],dog_classes[y_pred[1]],dog_classes[y_pred[2]],dog_classes[y_pred[3]]))"
      ],
      "execution_count": null,
      "outputs": []
    },
    {
      "cell_type": "code",
      "metadata": {
        "id": "KzbIKir2-gRn"
      },
      "source": [
        "# k=7 일때\n",
        "k=7\n",
        "knn = KNeighborsClassifier(n_neighbors=k)\n",
        "knn.fit(dogs,labels)\n",
        "y_pred=knn.predict(new)\n",
        "print(\"A : {0} ,B : {1}, C : {2}, D : {3}\".format(dog_classes[y_pred[0]],dog_classes[y_pred[1]],dog_classes[y_pred[2]],dog_classes[y_pred[3]]))"
      ],
      "execution_count": null,
      "outputs": []
    },
    {
      "cell_type": "markdown",
      "metadata": {
        "id": "O6_GDHaPBRHP"
      },
      "source": [
        " 3. Make the dog data which is composed of the data and A, B, C, D. \n",
        " Omitting all labels, apply K-means algorithm to the dog data when k is 2, \n",
        " 3, 4, and visualize the result"
      ]
    },
    {
      "cell_type": "code",
      "metadata": {
        "id": "AtG4QdJur4L8"
      },
      "source": [
        "#k-means Algorithm\n",
        "\n",
        "import matplotlib.pyplot as plt \n",
        "import numpy as np\n",
        "from sklearn.neighbors import KNeighborsClassifier\n",
        "from sklearn import metrics\n",
        "\n",
        "\n",
        "new = np.array(new)   #새로운 A,B,C,D 데이터 준비\n",
        "\n",
        "dog_data = np.concatenate((dogs,new))  #기존 데이터에 더함\n",
        "\n",
        "dog_length = np.array(dog_data[:,0])   #Length 부분 분리\n",
        "dog_height = np.array(dog_data[:,1])   #Height 부분 분리\n",
        "\n",
        "plt.scatter(dog_length,dog_height)     #그에 따른 분포 표현\n",
        "\n",
        "plt.xlabel('Length')\n",
        "plt.ylabel('Height')\n",
        "plt.title('Dog Data without Labels')\n",
        "plt.show()"
      ],
      "execution_count": null,
      "outputs": []
    },
    {
      "cell_type": "code",
      "metadata": {
        "id": "IMfPVWE9wcJL"
      },
      "source": [
        "from sklearn import cluster\n",
        "\n",
        "def kmeans_predict_plot(X,k):\n",
        "  model = cluster.KMeans(n_clusters=k)\n",
        "  model.fit(X)\n",
        "  labels = model.predict(X)\n",
        "  colors = np.array(['red','green','blue','yellow'])\n",
        "\n",
        "  plt.scatter(X[:,0],X[:,1], color = colors[labels])\n",
        "  plt.show()\n",
        "\n",
        "kmeans_predict_plot(dog_data,k=2)\n",
        "kmeans_predict_plot(dog_data,k=3)\n",
        "kmeans_predict_plot(dog_data,k=4)"
      ],
      "execution_count": null,
      "outputs": []
    }
  ]
}