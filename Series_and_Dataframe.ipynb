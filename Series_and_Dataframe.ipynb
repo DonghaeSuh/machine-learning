{
  "nbformat": 4,
  "nbformat_minor": 0,
  "metadata": {
    "colab": {
      "name": "20190908 기계학습",
      "private_outputs": true,
      "provenance": [],
      "collapsed_sections": [],
      "authorship_tag": "ABX9TyOREjac0ChgnuiE7kjz11SR",
      "include_colab_link": true
    },
    "kernelspec": {
      "name": "python3",
      "display_name": "Python 3"
    },
    "language_info": {
      "name": "python"
    }
  },
  "cells": [
    {
      "cell_type": "markdown",
      "metadata": {
        "id": "view-in-github",
        "colab_type": "text"
      },
      "source": [
        "<a href=\"https://colab.research.google.com/github/DonghaeSuh/machine-learning/blob/main/Series_and_Dataframe.ipynb\" target=\"_parent\"><img src=\"https://colab.research.google.com/assets/colab-badge.svg\" alt=\"Open In Colab\"/></a>"
      ]
    },
    {
      "cell_type": "code",
      "metadata": {
        "id": "TNabCQW1otCI"
      },
      "source": [
        "import numpy as np\n",
        "import pandas as pd\n",
        "\n",
        "#series\n",
        "\n",
        "s = pd.Series(np.random.randn(5), index=[\"a\",\"b\",\"c\",\"d\",\"e\"])   #radn : 0~1   , index는 이름붙여주는것임\n",
        "s, s.index"
      ],
      "execution_count": null,
      "outputs": []
    },
    {
      "cell_type": "code",
      "metadata": {
        "id": "qhfcND9M-6IR"
      },
      "source": [
        "s*2"
      ],
      "execution_count": null,
      "outputs": []
    },
    {
      "cell_type": "code",
      "metadata": {
        "id": "62Q8yAz4trv7"
      },
      "source": [
        "d = {\"a\": 0.0 , \"b\" : 1.0, \"c\" :2.0}     #d : dictionary 사전(파이썬)\n",
        "pd.Series(d, index=[\"b\",\"c\",\"d\",\"a\"])"
      ],
      "execution_count": null,
      "outputs": []
    },
    {
      "cell_type": "code",
      "metadata": {
        "id": "MmePPnEAu1gM"
      },
      "source": [
        "x = np.array([[0,1,2],\n",
        "              [3,4,5],\n",
        "              [6,7,8],\n",
        "              [9,10,11]])\n",
        "print(x[1:2,1:3])\n",
        "print(x[1:2,[1,2]])"
      ],
      "execution_count": null,
      "outputs": []
    },
    {
      "cell_type": "markdown",
      "metadata": {
        "id": "k9N1eA1vx0Dh"
      },
      "source": [
        "Dataframe"
      ]
    },
    {
      "cell_type": "code",
      "metadata": {
        "id": "Vyr2J60PwP0e"
      },
      "source": [
        "d = {\"one\": pd.Series([1.0,2.0,3.0], index=[\"a\",\"b\",\"c\"]),\n",
        "    \"two\" : pd.Series([1.0,2.0,3.0,4.0], index=[\"a\",\"b\",\"c\",\"d\"])\n",
        "}\n",
        "\n",
        "df =pd.DataFrame(d)\n",
        "df"
      ],
      "execution_count": null,
      "outputs": []
    },
    {
      "cell_type": "code",
      "metadata": {
        "id": "wXq67ZhJyn2v"
      },
      "source": [
        "pd.DataFrame(d, index=[\"d\",\"b\",\"a\"])"
      ],
      "execution_count": null,
      "outputs": []
    },
    {
      "cell_type": "code",
      "metadata": {
        "id": "1huIW6TWyzOG"
      },
      "source": [
        "pd.DataFrame(d, index=[\"d\",\"b\",\"a\"], columns=[\"two\",\"three\"])"
      ],
      "execution_count": null,
      "outputs": []
    },
    {
      "cell_type": "code",
      "metadata": {
        "id": "F1y6ip5NzbB1"
      },
      "source": [
        "d = {\"one\" : [1.0,2.0,3.0,4.0], \"two\":[4.0,3.0,2.0,1.0]}\n",
        "pd.DataFrame(d)"
      ],
      "execution_count": null,
      "outputs": []
    },
    {
      "cell_type": "code",
      "metadata": {
        "id": "qZCMdXD6z4Tc"
      },
      "source": [
        "pd.DataFrame(d,index=[\"a\",\"b\",\"c\",\"d\"])"
      ],
      "execution_count": null,
      "outputs": []
    },
    {
      "cell_type": "code",
      "metadata": {
        "id": "6sTvUOCD06bK"
      },
      "source": [
        "data2 = [{\"a\":1,\"b\":2}, {\"a\":5,\"b\":10,\"c\":20}]\n",
        "pd.DataFrame(data2)"
      ],
      "execution_count": null,
      "outputs": []
    },
    {
      "cell_type": "code",
      "metadata": {
        "id": "9d0chmmF1Onb"
      },
      "source": [
        "pd.DataFrame(data2,index=[\"first\",\"second\"])"
      ],
      "execution_count": null,
      "outputs": []
    },
    {
      "cell_type": "code",
      "metadata": {
        "id": "AXVM8B2K1XMY"
      },
      "source": [
        "pd.DataFrame(data2,columns=[\"a\",\"b\"])     #인덱스가 변하지 안았음 (위의 값을 받아오지 못함)"
      ],
      "execution_count": null,
      "outputs": []
    },
    {
      "cell_type": "code",
      "metadata": {
        "id": "UFluIBEc2X-L"
      },
      "source": [
        "pd.DataFrame({\n",
        "    (\"a\",\"b\"): {(\"A\",\"B\"):1, (\"A\",\"C\"):2},\n",
        "    (\"a\",\"a\"): {(\"A\",\"C\"):3, (\"A\",\"B\"):4},\n",
        "    (\"a\",\"c\"): {(\"A\",\"B\"):5, (\"A\",\"C\"):6},\n",
        "    (\"b\",\"a\"): {(\"A\",\"C\"):7, (\"A\",\"B\"):8},\n",
        "    (\"b\",\"b\"): {(\"A\",\"D\"):9, (\"A\",\"B\"):10},\n",
        "}\n",
        "    \n",
        "\n",
        ")"
      ],
      "execution_count": null,
      "outputs": []
    },
    {
      "cell_type": "code",
      "metadata": {
        "id": "X9BCLNE44vzj"
      },
      "source": [
        "np.random.randn(8,4)"
      ],
      "execution_count": null,
      "outputs": []
    },
    {
      "cell_type": "code",
      "metadata": {
        "id": "Ard_HftqDW_u"
      },
      "source": [
        "date = pd.date_range('1/1/2000',periods=8)\n",
        "date"
      ],
      "execution_count": null,
      "outputs": []
    },
    {
      "cell_type": "code",
      "metadata": {
        "id": "p9OW7kmDKBpf"
      },
      "source": [
        "df = pd.DataFrame(np.random.randn(8,4),index=date, columns=['A','B','C','D'])\n",
        "df"
      ],
      "execution_count": null,
      "outputs": []
    },
    {
      "cell_type": "code",
      "metadata": {
        "id": "xFk5025zKQTG"
      },
      "source": [
        "print(df[df.index=='2000-01-06'])\n",
        "s=df['A']\n",
        "print(s[date[5]])\n"
      ],
      "execution_count": null,
      "outputs": []
    },
    {
      "cell_type": "markdown",
      "metadata": {
        "id": "QZJAmpvi5WbQ"
      },
      "source": [
        "Reading CSV files"
      ]
    },
    {
      "cell_type": "code",
      "metadata": {
        "id": "tq0A01Q34uvF"
      },
      "source": [
        "import pandas as pd\n",
        "\n",
        "path =\"https://github.com/dknife/ML/raw/main/data/\"\n",
        "file = path+'vehicle_prod.csv'\n",
        "\n",
        "df =pd.read_csv(file,index_col=0)\n",
        "print(df)"
      ],
      "execution_count": null,
      "outputs": []
    },
    {
      "cell_type": "code",
      "metadata": {
        "id": "z19rCvpMFFDp"
      },
      "source": [
        "print(df[['2007','2008']])"
      ],
      "execution_count": null,
      "outputs": []
    },
    {
      "cell_type": "code",
      "metadata": {
        "id": "8BYHYbvRU1MQ"
      },
      "source": [
        "print(df[df.index=='EU'])"
      ],
      "execution_count": null,
      "outputs": []
    },
    {
      "cell_type": "code",
      "metadata": {
        "id": "ZY7wNvPy65vH"
      },
      "source": [
        "import matplotlib.pyplot as plt"
      ],
      "execution_count": null,
      "outputs": []
    },
    {
      "cell_type": "code",
      "metadata": {
        "id": "u8GMzoHf6-DQ"
      },
      "source": [
        "df['2009'].plot(kind='bar', color = ('orange','r','b','m','c','k'))"
      ],
      "execution_count": null,
      "outputs": []
    }
  ]
}