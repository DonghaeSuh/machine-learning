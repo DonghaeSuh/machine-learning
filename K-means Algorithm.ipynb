{
  "nbformat": 4,
  "nbformat_minor": 0,
  "metadata": {
    "colab": {
      "name": "기계학습 20210929",
      "private_outputs": true,
      "provenance": [],
      "collapsed_sections": [],
      "authorship_tag": "ABX9TyNbgE66bAXE0UyR/DEEpvZc",
      "include_colab_link": true
    },
    "kernelspec": {
      "name": "python3",
      "display_name": "Python 3"
    },
    "language_info": {
      "name": "python"
    }
  },
  "cells": [
    {
      "cell_type": "markdown",
      "metadata": {
        "id": "view-in-github",
        "colab_type": "text"
      },
      "source": [
        "<a href=\"https://colab.research.google.com/github/DonghaeSuh/machine-learning/blob/main/K-means%20Algorithm.ipynb\" target=\"_parent\"><img src=\"https://colab.research.google.com/assets/colab-badge.svg\" alt=\"Open In Colab\"/></a>"
      ]
    },
    {
      "cell_type": "code",
      "metadata": {
        "id": "RWH7mpkO27lt"
      },
      "source": [
        "#k-means Algorithm\n",
        "\n",
        "import matplotlib.pyplot as plt \n",
        "import numpy as np\n",
        "from sklearn.neighbors import KNeighborsClassifier\n",
        "from sklearn import metrics\n",
        "\n",
        "dach_length = [77,78,85,83,73,77,73,80]\n",
        "dach_height = [25,28,29,30,21,22,17,35]\n",
        "\n",
        "samo_length = [75,77,86,86,79,83,83,88]\n",
        "samo_height = [56,57,50,53,60,53,49,61]\n",
        "\n",
        "dog_length = np.array(dach_length + samo_length)\n",
        "dog_height = np.array(dach_height + samo_height)\n",
        "dog_data = np.column_stack([dog_length,dog_height])\n",
        "\n",
        "\n",
        "plt.scatter(dog_length,dog_height)\n",
        "\n",
        "plt.xlabel('Length')\n",
        "plt.ylabel('Height')\n",
        "plt.title('Dog Data without Labels')\n",
        "plt.show()"
      ],
      "execution_count": null,
      "outputs": []
    },
    {
      "cell_type": "code",
      "metadata": {
        "id": "JbNBHV3-FQv7"
      },
      "source": [
        "from sklearn import cluster\n",
        "\n",
        "def kmeans_predict_plot(X,k):\n",
        "  model = cluster.KMeans(n_clusters=k)\n",
        "  model.fit(X)\n",
        "  labels = model.predict(X)\n",
        "  colors = np.array(['red','green','blue','magental'])\n",
        "\n",
        "  plt.scatter(X[:,0],X[:,1], color = colors[labels])\n",
        "  plt.show()\n",
        "\n",
        "kmeans_predict_plot(dog_data,k=2)"
      ],
      "execution_count": null,
      "outputs": []
    }
  ]
}