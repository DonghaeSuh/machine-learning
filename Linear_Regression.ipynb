{
  "nbformat": 4,
  "nbformat_minor": 0,
  "metadata": {
    "colab": {
      "name": "20210912 기계학습",
      "private_outputs": true,
      "provenance": [],
      "collapsed_sections": [],
      "authorship_tag": "ABX9TyM8kMLiTk/qtzCkUtqopy8X",
      "include_colab_link": true
    },
    "kernelspec": {
      "name": "python3",
      "display_name": "Python 3"
    },
    "language_info": {
      "name": "python"
    }
  },
  "cells": [
    {
      "cell_type": "markdown",
      "metadata": {
        "id": "view-in-github",
        "colab_type": "text"
      },
      "source": [
        "<a href=\"https://colab.research.google.com/github/DonghaeSuh/machine-learning/blob/main/Linear_Regression\" target=\"_parent\"><img src=\"https://colab.research.google.com/assets/colab-badge.svg\" alt=\"Open In Colab\"/></a>"
      ]
    },
    {
      "cell_type": "markdown",
      "metadata": {
        "id": "IaCfYqrh3eQ_"
      },
      "source": [
        "## input 과 pollution DATA"
      ]
    },
    {
      "cell_type": "code",
      "metadata": {
        "id": "SOB_4cO7HDAh"
      },
      "source": [
        "import matplotlib.pyplot as plt\n",
        "import pandas as pd\n",
        "\n",
        "data_home = 'https://github.com/dknife/ML/raw/main/data/'\n",
        "lin_data =pd.read_csv(data_home + 'pollution.csv')\n",
        "print(lin_data)"
      ],
      "execution_count": null,
      "outputs": []
    },
    {
      "cell_type": "code",
      "metadata": {
        "id": "DzbxyRdgNgQP"
      },
      "source": [
        "lin_data.plot(kind='scatter', x='input',y='pollution')"
      ],
      "execution_count": null,
      "outputs": []
    },
    {
      "cell_type": "markdown",
      "metadata": {
        "id": "lt2MzSjC3qG_"
      },
      "source": [
        "직선 생성 함수"
      ]
    },
    {
      "cell_type": "code",
      "metadata": {
        "id": "NTxgVM60N0fF"
      },
      "source": [
        "def h(x,w0,w1):\n",
        "  return w0+w1*x\n",
        "\n",
        "w0,w1 = 6.0,-3.0\n",
        "x0,x1 = 0.0, 1.0\n",
        "\n",
        "lin_data.plot(kind='scatter',x='input',y='pollution')\n",
        "plt.plot([x0,x1],[h(x0,w0,w1),h(x1,w0,w1)])"
      ],
      "execution_count": null,
      "outputs": []
    },
    {
      "cell_type": "markdown",
      "metadata": {
        "id": "ov2PwSmy3uR7"
      },
      "source": [
        "MSE 계산"
      ]
    },
    {
      "cell_type": "code",
      "metadata": {
        "id": "DXyzVVBAOiRk"
      },
      "source": [
        "x=lin_data['input'].to_numpy()\n",
        "y=lin_data['pollution'].to_numpy()\n",
        "\n",
        "y_hat = h(x,w0,w1)\n",
        "\n",
        "mse = (y-y_hat)**2\n",
        "mse.sum()/len(x)"
      ],
      "execution_count": null,
      "outputs": []
    },
    {
      "cell_type": "markdown",
      "metadata": {
        "id": "ohd8aX8Z3xpD"
      },
      "source": [
        "### Gradient descent "
      ]
    },
    {
      "cell_type": "code",
      "metadata": {
        "id": "O9LMXHRdPO_L"
      },
      "source": [
        "def h(x,param):\n",
        "  return param[0]*x + param[1]\n",
        "\n",
        "learning_rate = 0.0025\n",
        "param=[1,1]\n",
        "\n",
        "xx=lin_data['input'].to_numpy()\n",
        "yy=lin_data['pollution'].to_numpy()\n",
        "\n",
        "for i in range(1000):\n",
        "  if i%200 ==0:\n",
        "    lin_data.plot(kind='scatter',x='input',y='pollution')\n",
        "    plt.plot([0,1],[h(0,param),h(1,param)])\n",
        "  error =(h(xx,param)-yy)\n",
        "  param[0] -=learning_rate*(error*xx).sum()\n",
        "  param[1] -= learning_rate*error.sum()"
      ],
      "execution_count": null,
      "outputs": []
    },
    {
      "cell_type": "markdown",
      "metadata": {
        "id": "dLvQaizj33y9"
      },
      "source": [
        "### sklearn 이용한 선형회귀"
      ]
    },
    {
      "cell_type": "code",
      "metadata": {
        "id": "XGqG1BzWSgP6"
      },
      "source": [
        "import numpy as np\n",
        "from sklearn import linear_model\n",
        "\n",
        "data_home = 'https://github.com/dknife/ML/raw/main/data/'\n",
        "lin_data =pd.read_csv(data_home + 'pollution.csv')\n",
        "\n",
        "x=lin_data['input'].to_numpy()\n",
        "y=lin_data['pollution'].to_numpy()\n",
        "x=x[:,np.newaxis]\n",
        "\n",
        "regr=linear_model.LinearRegression()\n",
        "regr.fit(x,y)\n",
        "\n",
        "lin_data.plot(kind='scatter',x='input',y='pollution')\n",
        "y_pred = regr.predict([[0],[1]])\n",
        "print(y_pred)\n",
        "plt.plot([0,1], y_pred)"
      ],
      "execution_count": null,
      "outputs": []
    },
    {
      "cell_type": "markdown",
      "metadata": {
        "id": "GZNCJ1Oa4Hlx"
      },
      "source": [
        "## 시각화"
      ]
    },
    {
      "cell_type": "code",
      "metadata": {
        "id": "q9n5bUvvVCHo"
      },
      "source": [
        "data_home = 'https://github.com/dknife/ML/raw/main/data/'\n",
        "lin_data =pd.read_csv(data_home + 'pollution.csv')\n",
        "\n",
        "x=lin_data['input'].to_numpy()\n",
        "y=lin_data['pollution'].to_numpy()\n",
        "\n",
        "x=x[:,np.newaxis]\n",
        "X=np.c_[np.ones((100,1)),x]\n",
        "print(X)\n",
        "\n",
        "omega =np.linalg.inv(X.T.dot(X)).dot(X.T).dot(y)\n",
        "omega\n",
        "\n",
        "def h(x,omega):\n",
        "  return omega[0] + x*omega[1]\n",
        "\n",
        "lin_data.plot(kind='scatter',x='input',y='pollution')\n",
        "plt.plot([0,1], [h(0,omega),h(1,omega)])"
      ],
      "execution_count": null,
      "outputs": []
    }
  ]
}
